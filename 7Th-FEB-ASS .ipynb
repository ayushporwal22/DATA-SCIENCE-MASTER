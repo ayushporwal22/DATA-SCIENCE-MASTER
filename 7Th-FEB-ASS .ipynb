{
 "cells": [
  {
   "cell_type": "code",
   "execution_count": 32,
   "id": "bd092157-4402-4d5e-b6c7-8f5faf890c03",
   "metadata": {},
   "outputs": [],
   "source": [
    "def check_password(password):\n",
    "    # Check password length\n",
    "    if len(password) != 10:\n",
    "        return \"Invalid Password\"\n",
    "    \n",
    "    # Count number of uppercase and lowercase letters\n",
    "    num_uppercase = 0\n",
    "    num_lowercase = 0\n",
    "    for char in password:\n",
    "        if char.isupper():\n",
    "            num_uppercase += 1\n",
    "        elif char.islower():\n",
    "            num_lowercase += 1\n",
    "    \n",
    "    # Check number of uppercase and lowercase letters\n",
    "    if num_uppercase < 2 or num_lowercase < 2:\n",
    "        return \"Invalid Password\"\n",
    "    \n",
    "    # Count number of digits and special characters\n",
    "    num_digits = 0\n",
    "    num_special = 0\n",
    "    for char in password:\n",
    "        if char.isdigit():\n",
    "            num_digits += 1\n",
    "        elif not char.isalnum():\n",
    "            num_special += 1\n",
    "    \n",
    "    # Check number of digits and special characters\n",
    "    if num_digits < 1 or num_special < 3:\n",
    "        return \"Invalid Password\"\n",
    "    \n",
    "    # If all checks pass, return valid password\n",
    "    return \"Valid Password\"\n"
   ]
  },
  {
   "cell_type": "code",
   "execution_count": 37,
   "id": "5fdef75a-51e7-457d-a817-d2f0d51838fe",
   "metadata": {},
   "outputs": [
    {
     "name": "stdout",
     "output_type": "stream",
     "text": [
      "Valid Password\n",
      "Invalid Password\n",
      "Invalid Password\n"
     ]
    }
   ],
   "source": [
    "password1 = \"AYush@2!@#\"\n",
    "password2 = \"abcDEF123$\"\n",
    "password3 = \"Password123\"\n",
    "print(check_password(password1)) # Should return \"Valid Password\"\n",
    "print(check_password(password2)) # Should return \"Invalid Password\"\n",
    "print(check_password(password3)) # Should return \"Invalid Password\"\n"
   ]
  },
  {
   "cell_type": "code",
   "execution_count": null,
   "id": "e1949611-f07f-4e4d-bea6-0a61c68f63cc",
   "metadata": {},
   "outputs": [],
   "source": []
  },
  {
   "cell_type": "markdown",
   "id": "094eaed1-bfe7-4b83-b7bb-7ec93e87820b",
   "metadata": {},
   "source": [
    "1"
   ]
  },
  {
   "cell_type": "code",
   "execution_count": 44,
   "id": "47a2ffb3-ef0f-4579-b492-bc450778845c",
   "metadata": {},
   "outputs": [
    {
     "name": "stdout",
     "output_type": "stream",
     "text": [
      "True\n",
      "False\n"
     ]
    }
   ],
   "source": [
    "starts_with_a = lambda x: x.startswith('a')\n",
    "print(starts_with_a('apple')) # Output: True\n",
    "print(starts_with_a('banana')) # Output: False"
   ]
  },
  {
   "cell_type": "code",
   "execution_count": 45,
   "id": "21d91834-9597-4412-9695-985886f7e542",
   "metadata": {},
   "outputs": [
    {
     "name": "stdout",
     "output_type": "stream",
     "text": [
      "['apple']\n"
     ]
    }
   ],
   "source": [
    "fruits = ['apple', 'banana', 'orange']\n",
    "starts_with_a = [fruit for fruit in fruits if fruit.startswith('a')]\n",
    "print(starts_with_a) # Output: ['apple']\n"
   ]
  },
  {
   "cell_type": "code",
   "execution_count": null,
   "id": "09a5032e-e1d5-4567-8e66-e818e593de13",
   "metadata": {},
   "outputs": [],
   "source": []
  },
  {
   "cell_type": "markdown",
   "id": "605b7293-9389-4e19-903b-16dfeeba9466",
   "metadata": {},
   "source": [
    "2"
   ]
  },
  {
   "cell_type": "code",
   "execution_count": 46,
   "id": "c0490e85-a5f1-473a-acec-05caaee6818a",
   "metadata": {},
   "outputs": [
    {
     "name": "stdout",
     "output_type": "stream",
     "text": [
      "True\n",
      "False\n"
     ]
    }
   ],
   "source": [
    "is_numeric = lambda x: x.isnumeric()\n",
    "print(is_numeric('123')) # Output: True\n",
    "print(is_numeric('abc')) # Output: False\n"
   ]
  },
  {
   "cell_type": "code",
   "execution_count": 47,
   "id": "ea055a88-6216-448a-b69f-b2b172361d70",
   "metadata": {},
   "outputs": [
    {
     "name": "stdout",
     "output_type": "stream",
     "text": [
      "['123']\n"
     ]
    }
   ],
   "source": [
    "strings = ['123', 'abc', '45.67']\n",
    "is_numeric = [s for s in strings if s.isnumeric()]\n",
    "print(is_numeric) # Output: ['123']\n"
   ]
  },
  {
   "cell_type": "code",
   "execution_count": null,
   "id": "1726fb64-cd12-4390-80eb-6f629af1f20d",
   "metadata": {},
   "outputs": [],
   "source": []
  },
  {
   "cell_type": "markdown",
   "id": "4f174460-3261-4df7-a787-4a60d70537d9",
   "metadata": {},
   "source": [
    "3"
   ]
  },
  {
   "cell_type": "code",
   "execution_count": 48,
   "id": "a1bb0ae9-28a7-45a4-84ab-0c9ce9dc84c7",
   "metadata": {},
   "outputs": [
    {
     "name": "stdout",
     "output_type": "stream",
     "text": [
      "[('orange', 80), ('mango', 99), ('grapes', 1000)]\n"
     ]
    }
   ],
   "source": [
    "fruits = [(\"mango\",99),(\"orange\",80), (\"grapes\", 1000)]\n",
    "sorted_fruits = sorted(fruits, key=lambda x: x[1])\n",
    "print(sorted_fruits) # Output: [('orange', 80), ('mango', 99), ('grapes', 1000)]\n"
   ]
  },
  {
   "cell_type": "code",
   "execution_count": 49,
   "id": "fd4894b6-c8e3-4566-93b7-1b09132eeaae",
   "metadata": {},
   "outputs": [
    {
     "name": "stdout",
     "output_type": "stream",
     "text": [
      "[('orange', 80), ('mango', 99), ('grapes', 1000)]\n"
     ]
    }
   ],
   "source": [
    "fruits = [(\"mango\",99),(\"orange\",80), (\"grapes\", 1000)]\n",
    "sorted_fruits = sorted(fruits, key=lambda x: x[1])\n",
    "print(sorted_fruits) # Output: [('orange', 80), ('mango', 99), ('grapes', 1000)]\n"
   ]
  },
  {
   "cell_type": "code",
   "execution_count": null,
   "id": "c4038f1e-1829-4d64-a2cf-8617851cf599",
   "metadata": {},
   "outputs": [],
   "source": []
  },
  {
   "cell_type": "markdown",
   "id": "56818110-f126-4a09-8e8b-203e84d50617",
   "metadata": {},
   "source": [
    "4"
   ]
  },
  {
   "cell_type": "code",
   "execution_count": 50,
   "id": "80a9988f-6bd9-4ac1-9aad-bd976088068f",
   "metadata": {},
   "outputs": [
    {
     "name": "stdout",
     "output_type": "stream",
     "text": [
      "[1, 4, 9, 16, 25, 36, 49, 64, 81, 100]\n"
     ]
    }
   ],
   "source": [
    "squares = list(map(lambda x: x**2, range(1,11)))\n",
    "print(squares) # Output: [1, 4, 9, 16, 25, 36, 49, 64, 81, 100]\n"
   ]
  },
  {
   "cell_type": "code",
   "execution_count": 51,
   "id": "6c0bdcd5-1827-437a-9815-d1069fd9f182",
   "metadata": {},
   "outputs": [
    {
     "name": "stdout",
     "output_type": "stream",
     "text": [
      "[1, 4, 9, 16, 25, 36, 49, 64, 81, 100]\n"
     ]
    }
   ],
   "source": [
    "squares = [x**2 for x in range(1, 11)]\n",
    "print(squares) # Output: [1, 4, 9, 16, 25, 36, 49, 64, 81, 100]\n"
   ]
  },
  {
   "cell_type": "code",
   "execution_count": null,
   "id": "ac9c148f-650d-4868-a757-d9371c93538c",
   "metadata": {},
   "outputs": [],
   "source": []
  },
  {
   "cell_type": "markdown",
   "id": "837b87bb-a69c-4ee3-8b72-bb43b3471cb3",
   "metadata": {},
   "source": [
    "5"
   ]
  },
  {
   "cell_type": "code",
   "execution_count": 52,
   "id": "2dcad1a6-0e71-4881-87a4-a363ca9f6496",
   "metadata": {},
   "outputs": [
    {
     "name": "stdout",
     "output_type": "stream",
     "text": [
      "[1.0, 1.2599210498948732, 1.4422495703074083, 1.5874010519681994, 1.7099759466766968, 1.8171205928321397, 1.912931182772389, 2.0, 2.080083823051904, 2.154434690031884]\n"
     ]
    }
   ],
   "source": [
    "import math\n",
    "cube_roots = list(map(lambda x: math.pow(x, 1/3), range(1,11)))\n",
    "print(cube_roots) # Output: [1.0, 1.2599210498948732, 1.4422495703074083, 1.5874010519681994, 1.7099759466766968, 1.8171205928321397, 1.912931182772389, 2.0, 2.080083823051904, 2.154434690031884]\n"
   ]
  },
  {
   "cell_type": "code",
   "execution_count": 53,
   "id": "38765a1b-b483-4c46-b264-d9eb42a1606e",
   "metadata": {},
   "outputs": [
    {
     "name": "stdout",
     "output_type": "stream",
     "text": [
      "[1.0, 1.2599210498948732, 1.4422495703074083, 1.5874010519681994, 1.7099759466766968, 1.8171205928321397, 1.912931182772389, 2.0, 2.080083823051904, 2.154434690031884]\n"
     ]
    }
   ],
   "source": [
    "import math\n",
    "cube_roots = [math.pow(x, 1/3) for x in range(1, 11)]\n",
    "print(cube_roots) # Output: [1.0, 1.2599210498948732, 1.4422495703074083, 1.5874010519681994, 1.7099759466766968, 1.8171205928321397, 1.912931182772389, 2.0, 2.080083823051904,\n"
   ]
  },
  {
   "cell_type": "code",
   "execution_count": null,
   "id": "267c5b57-edcf-4119-9800-1c8b6a9e63a2",
   "metadata": {},
   "outputs": [],
   "source": []
  }
 ],
 "metadata": {
  "kernelspec": {
   "display_name": "Python 3 (ipykernel)",
   "language": "python",
   "name": "python3"
  },
  "language_info": {
   "codemirror_mode": {
    "name": "ipython",
    "version": 3
   },
   "file_extension": ".py",
   "mimetype": "text/x-python",
   "name": "python",
   "nbconvert_exporter": "python",
   "pygments_lexer": "ipython3",
   "version": "3.10.8"
  }
 },
 "nbformat": 4,
 "nbformat_minor": 5
}
