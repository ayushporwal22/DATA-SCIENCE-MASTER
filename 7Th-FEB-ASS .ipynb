{
 "cells": [
  {
   "cell_type": "code",
   "execution_count": 32,
   "id": "bd092157-4402-4d5e-b6c7-8f5faf890c03",
   "metadata": {},
   "outputs": [],
   "source": [
    "def check_password(password):\n",
    "    # Check password length\n",
    "    if len(password) != 10:\n",
    "        return \"Invalid Password\"\n",
    "    \n",
    "    # Count number of uppercase and lowercase letters\n",
    "    num_uppercase = 0\n",
    "    num_lowercase = 0\n",
    "    for char in password:\n",
    "        if char.isupper():\n",
    "            num_uppercase += 1\n",
    "        elif char.islower():\n",
    "            num_lowercase += 1\n",
    "    \n",
    "    # Check number of uppercase and lowercase letters\n",
    "    if num_uppercase < 2 or num_lowercase < 2:\n",
    "        return \"Invalid Password\"\n",
    "    \n",
    "    # Count number of digits and special characters\n",
    "    num_digits = 0\n",
    "    num_special = 0\n",
    "    for char in password:\n",
    "        if char.isdigit():\n",
    "            num_digits += 1\n",
    "        elif not char.isalnum():\n",
    "            num_special += 1\n",
    "    \n",
    "    # Check number of digits and special characters\n",
    "    if num_digits < 1 or num_special < 3:\n",
    "        return \"Invalid Password\"\n",
    "    \n",
    "    # If all checks pass, return valid password\n",
    "    return \"Valid Password\"\n"
   ]
  },
  {
   "cell_type": "code",
   "execution_count": 37,
   "id": "5fdef75a-51e7-457d-a817-d2f0d51838fe",
   "metadata": {},
   "outputs": [
    {
     "name": "stdout",
     "output_type": "stream",
     "text": [
      "Valid Password\n",
      "Invalid Password\n",
      "Invalid Password\n"
     ]
    }
   ],
   "source": [
    "password1 = \"AYush@2!@#\"\n",
    "password2 = \"abcDEF123$\"\n",
    "password3 = \"Password123\"\n",
    "print(check_password(password1)) # Should return \"Valid Password\"\n",
    "print(check_password(password2)) # Should return \"Invalid Password\"\n",
    "print(check_password(password3)) # Should return \"Invalid Password\"\n"
   ]
  },
  {
   "cell_type": "code",
   "execution_count": null,
   "id": "e1949611-f07f-4e4d-bea6-0a61c68f63cc",
   "metadata": {},
   "outputs": [],
   "source": []
  },
  {
   "cell_type": "markdown",
   "id": "094eaed1-bfe7-4b83-b7bb-7ec93e87820b",
   "metadata": {},
   "source": [
    "1"
   ]
  },
  {
   "cell_type": "code",
   "execution_count": 44,
   "id": "47a2ffb3-ef0f-4579-b492-bc450778845c",
   "metadata": {},
   "outputs": [
    {
     "name": "stdout",
     "output_type": "stream",
     "text": [
      "True\n",
      "False\n"
     ]
    }
   ],
   "source": [
    "starts_with_a = lambda x: x.startswith('a')\n",
    "print(starts_with_a('apple')) # Output: True\n",
    "print(starts_with_a('banana')) # Output: False"
   ]
  },
  {
   "cell_type": "code",
   "execution_count": 45,
   "id": "21d91834-9597-4412-9695-985886f7e542",
   "metadata": {},
   "outputs": [
    {
     "name": "stdout",
     "output_type": "stream",
     "text": [
      "['apple']\n"
     ]
    }
   ],
   "source": [
    "fruits = ['apple', 'banana', 'orange']\n",
    "starts_with_a = [fruit for fruit in fruits if fruit.startswith('a')]\n",
    "print(starts_with_a) # Output: ['apple']\n"
   ]
  },
  {
   "cell_type": "code",
   "execution_count": null,
   "id": "09a5032e-e1d5-4567-8e66-e818e593de13",
   "metadata": {},
   "outputs": [],
   "source": []
  },
  {
   "cell_type": "markdown",
   "id": "605b7293-9389-4e19-903b-16dfeeba9466",
   "metadata": {},
   "source": [
    "2"
   ]
  },
  {
   "cell_type": "code",
   "execution_count": null,
   "id": "c0490e85-a5f1-473a-acec-05caaee6818a",
   "metadata": {},
   "outputs": [],
   "source": []
  }
 ],
 "metadata": {
  "kernelspec": {
   "display_name": "Python 3 (ipykernel)",
   "language": "python",
   "name": "python3"
  },
  "language_info": {
   "codemirror_mode": {
    "name": "ipython",
    "version": 3
   },
   "file_extension": ".py",
   "mimetype": "text/x-python",
   "name": "python",
   "nbconvert_exporter": "python",
   "pygments_lexer": "ipython3",
   "version": "3.10.8"
  }
 },
 "nbformat": 4,
 "nbformat_minor": 5
}
