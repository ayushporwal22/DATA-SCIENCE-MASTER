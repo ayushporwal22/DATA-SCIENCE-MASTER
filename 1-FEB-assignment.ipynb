{
 "cells": [
  {
   "cell_type": "markdown",
   "id": "908fb3ed-cd2f-465c-88df-e203593a4e28",
   "metadata": {},
   "source": [
    "Tuples are immutable: Once a tuple is created, its contents cannot be changed. This means that you cannot add, remove, or modify elements in a tuple. However, you can create a new tuple that contains some or all of the elements of the original tuple.\n",
    "\n",
    "Tuples are ordered: The items in a tuple are ordered and can be accessed using indexing.\n",
    "\n",
    "Tuples can contain any type of data: Tuples can contain elements of different data types, including other tuples, lists, dictionaries, or even functions.\n",
    "\n",
    "Tuples are hashable: Since tuples are immutable, they can be used as keys in dictionaries and elements in sets.\n",
    "\n",
    "Some characteristics of tuples are:\n",
    "\n",
    "Tuples are enclosed in parentheses ().\n",
    "\n",
    "Elements in a tuple are separated by commas.\n",
    "\n",
    "A tuple can have any number of elements.\n",
    "\n",
    "Tuples can be accessed using indexing, slicing, and unpacking.\n",
    "\n",
    "Tuples can be used as function arguments and return values.\n",
    "\n",
    "Tuples can be created using the built-in tuple() function or by enclosing a sequence of elements in parentheses.\n",
    "\n",
    "In summary, a tuple is an immutable ordered collection of elements, which can be accessed using indexing and slicing."
   ]
  },
  {
   "cell_type": "markdown",
   "id": "1b4d93cc-9466-476c-85fa-715bc94fc044",
   "metadata": {},
   "source": [
    "count() method: This method returns the number of times a specific element appears in a tuple.\n",
    "Example:\n",
    "\n",
    "python\n",
    "Copy code\n",
    "my_tuple = (1, 2, 3, 4, 3, 5, 3)\n",
    "count_3 = my_tuple.count(3)\n",
    "print(count_3)  # Output: 3\n",
    "\n",
    "index() method: This method returns the index of the first occurrence of a specified element in a tuple.\n",
    "Example:\n",
    "\n",
    "python\n",
    "Copy code\n",
    "my_tuple = (1, 2, 3, 4, 3, 5, 3)\n",
    "index_3 = my_tuple.index(3)\n",
    "print(index_3)  # Output: 2\n",
    "The reason why tuples have only two built-in methods compared to lists is that tuples are designed to be immutable,\n",
    "meaning that once they are created, their values cannot be changed. This limits the functionality that can be provided by methods like append(), \n",
    "insert(), and remove(), which modify the contents of a list. Since tuples cannot be changed in this way, they do not need these methods, \n",
    "and only the two methods count() and index() are sufficient for the limited operations that can be performed on a tuple."
   ]
  },
  {
   "cell_type": "code",
   "execution_count": 1,
   "id": "641a1fb9-a223-421a-8461-91f3d2c28261",
   "metadata": {},
   "outputs": [
    {
     "name": "stdout",
     "output_type": "stream",
     "text": [
      "[1, 2, 3, 4]\n"
     ]
    }
   ],
   "source": [
    "lst = [1,1,1,2,1,3,1,4,2,1,2,2,2,3,2,4,3,1,3,2,3,3,3,4,4,1,4,2,4,3,4,4]\n",
    "lst_without_duplicates = list(set(lst))\n",
    "print(lst_without_duplicates)"
   ]
  },
  {
   "cell_type": "markdown",
   "id": "c50eb178-ba25-464d-be3c-50a81af99142",
   "metadata": {},
   "source": [
    "Both union() and update() are methods in Python that are used to combine two or more sets. However, there are some differences between these methods.\n",
    "\n",
    "union() method:\n",
    "\n",
    "union() method returns a new set containing all the unique elements from the original set as well as the set(s) passed as an argument to the method.\n",
    "It does not modify the original set.\n",
    "The resulting set contains no duplicates.\n",
    "Example:\n",
    "\n",
    "python\n",
    "Copy code\n",
    "set1 = {1, 2, 3}\n",
    "set2 = {3, 4, 5}\n",
    "set3 = {5, 6, 7}\n",
    "new_set = set1.union(set2, set3)\n",
    "print(new_set)  # Output: {1, 2, 3, 4, 5, 6, 7}\n",
    "update() method:\n",
    "\n",
    "update() method updates the original set by adding all the unique elements from the set(s) passed as an argument to the method.\n",
    "It modifies the original set and does not return anything.\n",
    "The resulting set contains no duplicates.\n",
    "Example:\n",
    "\n",
    "python\n",
    "Copy code\n",
    "set1 = {1, 2, 3}\n",
    "set2 = {3, 4, 5}\n",
    "set3 = {5, 6, 7}\n",
    "set1.update(set2, set3)\n",
    "print(set1)  # Output: {1, 2, 3, 4, 5, 6, 7}\n",
    "In both examples, we have three sets: set1, set2, and set3. The union() method in the first example is used to combine \n",
    "these three sets into a new set new_set which contains all the unique elements from these sets. The update() method in the second example is \n",
    "used to update the original set set1 by adding all the unique elements from set2 and set3. "
   ]
  },
  {
   "cell_type": "markdown",
   "id": "2ac45856-1c09-4c6b-a273-912c3ffde665",
   "metadata": {},
   "source": [
    "In Python, a dictionary is a collection data type that is used to store key-value pairs. Each key is associated with a value, and these key-value pairs are enclosed in curly braces {}.\n",
    "\n",
    "A dictionary is an unordered collection, which means that the order of elements in the dictionary is not fixed. The elements are stored based on the hash value of the keys, which allows for efficient retrieval of values based on keys.\n",
    "\n",
    "Here's an example of a dictionary in Python:\n",
    "\n",
    "python\n",
    "Copy code\n",
    "my_dict = {'name': 'John', 'age': 30, 'gender': 'male'}\n",
    "In this example, the dictionary my_dict contains three key-value pairs. The keys are 'name', 'age', and 'gender', and their corresponding values are 'John', 30, and 'male', respectively.\n",
    "\n",
    "We can also access the values in a dictionary using their keys. For example, to access the value associated with the key 'name' in the my_dict dictionary, we can use the following code:\n",
    "\n",
    "python\n",
    "Copy code\n",
    "name_value = my_dict['name']\n",
    "print(name_value)  # Output: John\n",
    "In this example, the variable name_value will contain the value 'John', which is the value associated with the key 'name' in the my_dict dictionary."
   ]
  },
  {
   "cell_type": "markdown",
   "id": "9b0da5d4-3c12-4eb5-9b41-69a17abf14c0",
   "metadata": {},
   "source": [
    "Yes, we can create a nested dictionary in Python. A nested dictionary is a dictionary that contains another dictionary as one of its values. This can be achieved by defining a dictionary inside another dictionary.\n",
    "\n",
    "Here's an example of a simple one-level nested dictionary in Python:\n",
    "\n",
    "python\n",
    "Copy code\n",
    "my_dict = {'person1': {'name': 'John', 'age': 30, 'gender': 'male'},\n",
    "           'person2': {'name': 'Jane', 'age': 25, 'gender': 'female'}}\n",
    "In this example, the my_dict dictionary contains two key-value pairs. The keys are 'person1' and 'person2', and their corresponding values are dictionaries themselves. The dictionary associated with the key 'person1' contains the key-value pairs 'name': 'John', 'age': 30, and 'gender': 'male', while the dictionary associated with the key 'person2' contains the key-value pairs 'name': 'Jane', 'age': 25, and 'gender': 'female'.\n",
    "\n",
    "We can access the values in a nested dictionary using their keys as well. For example, to access the age of person1 in the my_dict dictionary, we can use the following code:\n",
    "\n",
    "python\n",
    "Copy code\n",
    "age_value = my_dict['person1']['age']\n",
    "print(age_value)  # Output: 30\n",
    "In this example, the variable age_value will contain the value 30, which is the value associated with the key 'age' in the dictionary associated with the key 'person1' in the my_dict dictionary."
   ]
  },
  {
   "cell_type": "code",
   "execution_count": null,
   "id": "747e792d-0c49-44f2-8d02-c667894ae74b",
   "metadata": {},
   "outputs": [],
   "source": [
    "my_dict = {'name': 'John', 'age': 30}\n",
    "\n",
    "# using setdefault() method to create 'topics' key and assign a list of values to it\n",
    "my_dict.setdefault('topics', ['Python', 'Machine Learning', 'Deep Learning'])\n",
    "\n",
    "print(my_dict)\n"
   ]
  },
  {
   "cell_type": "code",
   "execution_count": null,
   "id": "e0a9b7bd-bea2-43b3-9a0d-ba18adf8e709",
   "metadata": {},
   "outputs": [],
   "source": [
    "my_dict = {'Sport': 'Cricket', 'Teams': ['India', 'Australia', 'England', 'South Africa', 'Sri Lanka', 'New Zealand']}\n",
    "\n",
    "# view object of all keys in the dictionary\n",
    "keys_view = my_dict.keys()\n",
    "print(\"keys_view:\", keys_view)\n",
    "\n",
    "# view object of all values in the dictionary\n",
    "values_view = my_dict.values()\n",
    "print(\"values_view:\", values_view)\n",
    "\n",
    "# view object of all (key, value) pairs in the dictionary\n",
    "items_view = my_dict.items()\n",
    "print(\"items_view:\", items_view)\n"
   ]
  }
 ],
 "metadata": {
  "kernelspec": {
   "display_name": "Python 3 (ipykernel)",
   "language": "python",
   "name": "python3"
  },
  "language_info": {
   "codemirror_mode": {
    "name": "ipython",
    "version": 3
   },
   "file_extension": ".py",
   "mimetype": "text/x-python",
   "name": "python",
   "nbconvert_exporter": "python",
   "pygments_lexer": "ipython3",
   "version": "3.10.8"
  }
 },
 "nbformat": 4,
 "nbformat_minor": 5
}
