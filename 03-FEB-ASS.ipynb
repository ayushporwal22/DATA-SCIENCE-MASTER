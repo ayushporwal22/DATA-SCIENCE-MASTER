{
 "cells": [
  {
   "cell_type": "code",
   "execution_count": 41,
   "id": "bfda5e93-6bf7-453b-a496-7b0d71ebddd2",
   "metadata": {},
   "outputs": [],
   "source": [
    "def odd_number():\n",
    "    odd_number = []\n",
    "    for num in range(1,26):\n",
    "        if num %2 !=0:\n",
    "            odd_number.append(num)\n",
    "    return odd_number"
   ]
  },
  {
   "cell_type": "code",
   "execution_count": 42,
   "id": "5c10f5cc-dbe7-4674-b3ec-dfdd8a84cfbc",
   "metadata": {},
   "outputs": [
    {
     "data": {
      "text/plain": [
       "[1, 3, 5, 7, 9, 11, 13, 15, 17, 19, 21, 23, 25]"
      ]
     },
     "execution_count": 42,
     "metadata": {},
     "output_type": "execute_result"
    }
   ],
   "source": [
    "odd_number()"
   ]
  },
  {
   "cell_type": "code",
   "execution_count": 40,
   "id": "262b1dbb-e8ec-46d0-9a1c-17dd7cb59ad2",
   "metadata": {},
   "outputs": [],
   "source": [
    "##*args is used to pass a variable number of non-keyword arguments to a function. It allows you to pass a flexible number of arguments to the function without knowing how many arguments will be passed in advance\n",
    "def sum_numbers(*args):\n",
    "    result = 0\n",
    "    for arg in args:\n",
    "        result += arg\n",
    "    return result\n",
    "##**kwargs is used to pass a variable number of keyword arguments to a function. It allows you to pass a flexible number of keyword arguments to the function without knowing how many keyword arguments will be passed in advance.\n",
    "def print_kwargs(**kwargs):\n",
    "    for key, value in kwargs.items():\n",
    "        print(key + \" = \" + str(value))"
   ]
  },
  {
   "cell_type": "code",
   "execution_count": 39,
   "id": "ac9dbced-84f2-4e25-8edb-cc10807ab565",
   "metadata": {},
   "outputs": [
    {
     "name": "stdout",
     "output_type": "stream",
     "text": [
      "2\n",
      "4\n",
      "6\n",
      "8\n",
      "10\n"
     ]
    }
   ],
   "source": [
    "##An iterator in Python is an object that can be iterated upon, meaning that it can be used in a for loop. An iterator is an object that generates the next value in a sequence when the next() method is called on it. In Python, an iterator can be created by defining a class that implements the __iter__() and __next__() methods.\n",
    "##To initialize an iterator object, we can use the iter() method, which takes an iterable object as an argument and returns an iterator object. To iterate over the elements of an iterator object, we can use the next() method, which returns the next element of the sequence.\n",
    "\n",
    "my_list = [2, 4, 6, 8, 10, 12, 14, 16, 18, 20]\n",
    "# Initialize an iterator object using the iter() method\n",
    "my_iterator = iter(my_list)\n",
    "# Iterate over the first five elements of the iterator using the next() method\n",
    "for i in range(5):\n",
    "    print(next(my_iterator))\n"
   ]
  },
  {
   "cell_type": "code",
   "execution_count": 44,
   "id": "72a3882c-2893-42ce-9380-4bf5d059a209",
   "metadata": {},
   "outputs": [],
   "source": [
    "##A generator function in Python is a special type of function that generates a sequence of values instead of returning a single value. Generator functions use the yield keyword instead of the return keyword to generate each value in the sequence one at a time.\n",
    "##The yield keyword is used to produce a value from the generator function and temporarily suspends the execution of the function. When the generator is called again, execution resumes from where it left off and the next value in the sequence is generated. This allows generator functions to generate sequences of values without having to store the entire sequence in memory at once, which can be more memory-efficient for large sequences.\n",
    "def fibonacci(n):\n",
    "    a, b = 0, 1\n",
    "    for i in range(n):\n",
    "        yield a\n",
    "        a, b = b, a + b\n"
   ]
  },
  {
   "cell_type": "code",
   "execution_count": 45,
   "id": "afac2a00-09d1-445c-b95f-4f5ae23d9fac",
   "metadata": {},
   "outputs": [
    {
     "name": "stdout",
     "output_type": "stream",
     "text": [
      "0\n",
      "1\n",
      "1\n",
      "2\n",
      "3\n",
      "5\n",
      "8\n",
      "13\n",
      "21\n",
      "34\n"
     ]
    }
   ],
   "source": [
    "for num in fibonacci(10):\n",
    "    print(num)\n"
   ]
  },
  {
   "cell_type": "code",
   "execution_count": 46,
   "id": "9a3484bb-23df-4967-bdc2-f6c240d5968d",
   "metadata": {},
   "outputs": [],
   "source": [
    "def primes():\n",
    "    yield 2\n",
    "    prime_list = [2]\n",
    "    num = 3\n",
    "    while num < 1000:\n",
    "        is_prime = True\n",
    "        for prime in prime_list:\n",
    "            if num % prime == 0:\n",
    "                is_prime = False\n",
    "                break\n",
    "        if is_prime:\n",
    "            yield num\n",
    "            prime_list.append(num)\n",
    "        num += 2\n"
   ]
  },
  {
   "cell_type": "code",
   "execution_count": 47,
   "id": "7e915f92-f706-47eb-ba09-41815c9a014a",
   "metadata": {},
   "outputs": [
    {
     "name": "stdout",
     "output_type": "stream",
     "text": [
      "2\n",
      "3\n",
      "5\n",
      "7\n",
      "11\n",
      "13\n",
      "17\n",
      "19\n",
      "23\n",
      "29\n",
      "31\n",
      "37\n",
      "41\n",
      "43\n",
      "47\n",
      "53\n",
      "59\n",
      "61\n",
      "67\n",
      "71\n"
     ]
    }
   ],
   "source": [
    "prime_gen = primes()\n",
    "for i in range(20):\n",
    "    print(next(prime_gen))\n"
   ]
  },
  {
   "cell_type": "code",
   "execution_count": null,
   "id": "bdda79bb-4804-4e22-ad70-232cff95864f",
   "metadata": {},
   "outputs": [],
   "source": []
  }
 ],
 "metadata": {
  "kernelspec": {
   "display_name": "Python 3 (ipykernel)",
   "language": "python",
   "name": "python3"
  },
  "language_info": {
   "codemirror_mode": {
    "name": "ipython",
    "version": 3
   },
   "file_extension": ".py",
   "mimetype": "text/x-python",
   "name": "python",
   "nbconvert_exporter": "python",
   "pygments_lexer": "ipython3",
   "version": "3.10.8"
  }
 },
 "nbformat": 4,
 "nbformat_minor": 5
}
