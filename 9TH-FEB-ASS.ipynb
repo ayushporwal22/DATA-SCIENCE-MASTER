{
 "cells": [
  {
   "cell_type": "code",
   "execution_count": 1,
   "id": "ee95c76f-c0e9-4bb0-bbfe-d207f3cb25fb",
   "metadata": {},
   "outputs": [],
   "source": [
    "class Vehicle:\n",
    "    def __init__(self, name_of_vehicle, max_speed, average_of_vehicle):\n",
    "        self.name_of_vehicle = name_of_vehicle\n",
    "        self.max_speed = max_speed\n",
    "        self.average_of_vehicle = average_of_vehicle"
   ]
  },
  {
   "cell_type": "code",
   "execution_count": 2,
   "id": "fdb3ebdc-6d46-457a-bdf4-b9914726f710",
   "metadata": {},
   "outputs": [],
   "source": [
    "car = Vehicle(\"Toyota Camry\", 120, 30)\n"
   ]
  },
  {
   "cell_type": "code",
   "execution_count": null,
   "id": "177f7689-a6ca-44fc-a763-31827038376b",
   "metadata": {},
   "outputs": [],
   "source": []
  },
  {
   "cell_type": "code",
   "execution_count": 3,
   "id": "4a456a36-1bd6-4a33-bd21-7829d32f31e2",
   "metadata": {
    "jupyter": {
     "source_hidden": true
    },
    "tags": []
   },
   "outputs": [],
   "source": [
    "class Car(Vehicle):\n",
    "    def __init__(self, name_of_vehicle, max_speed, average_of_vehicle):\n",
    "        super().__init__(name_of_vehicle, max_speed, average_of_vehicle)\n",
    "\n",
    "    def seating_capacity(self, capacity):\n",
    "        return f\"The {self.name_of_vehicle} has a seating capacity of {capacity} people.\"\n"
   ]
  },
  {
   "cell_type": "code",
   "execution_count": 4,
   "id": "b18d7de2-aff3-455f-a480-f7a64d946553",
   "metadata": {},
   "outputs": [
    {
     "name": "stdout",
     "output_type": "stream",
     "text": [
      "The Toyota Camry has a seating capacity of 5 people.\n"
     ]
    }
   ],
   "source": [
    "toyota_camry = Car(\"Toyota Camry\", 120, 30)\n",
    "print(toyota_camry.seating_capacity(5))\n"
   ]
  },
  {
   "cell_type": "code",
   "execution_count": null,
   "id": "12f0802e-3f17-413f-ae30-78fae5a2c549",
   "metadata": {},
   "outputs": [],
   "source": []
  },
  {
   "cell_type": "code",
   "execution_count": 7,
   "id": "b1d36a1c-97b2-45bc-91a4-06006541e9e6",
   "metadata": {},
   "outputs": [],
   "source": [
    "class A:\n",
    "    def method_a(self):\n",
    "        print(\"This is method A\")"
   ]
  },
  {
   "cell_type": "code",
   "execution_count": 8,
   "id": "e5b8859e-9f0a-45f3-be1e-863ff8327e43",
   "metadata": {},
   "outputs": [],
   "source": [
    "class B:\n",
    "    def method_b(self):\n",
    "        print(\"This is method B\")\n"
   ]
  },
  {
   "cell_type": "code",
   "execution_count": 9,
   "id": "60b2b7eb-7b91-4bec-8f0c-b362f810c9ac",
   "metadata": {},
   "outputs": [],
   "source": [
    "class C(A, B):\n",
    "    def method_c(self):\n",
    "        print(\"This is method C\")"
   ]
  },
  {
   "cell_type": "code",
   "execution_count": 10,
   "id": "6a741cb6-e9df-4b03-8012-1f6243c99f5c",
   "metadata": {},
   "outputs": [],
   "source": [
    "c = C()"
   ]
  },
  {
   "cell_type": "code",
   "execution_count": 11,
   "id": "4ad62330-1e99-4086-8686-7e9b37a68389",
   "metadata": {},
   "outputs": [
    {
     "name": "stdout",
     "output_type": "stream",
     "text": [
      "This is method A\n"
     ]
    }
   ],
   "source": [
    "c.method_a()    "
   ]
  },
  {
   "cell_type": "code",
   "execution_count": 12,
   "id": "476618e9-fa22-407f-8697-e43407ee734a",
   "metadata": {},
   "outputs": [
    {
     "name": "stdout",
     "output_type": "stream",
     "text": [
      "This is method B\n"
     ]
    }
   ],
   "source": [
    "c.method_b()"
   ]
  },
  {
   "cell_type": "code",
   "execution_count": 13,
   "id": "9f3e18c5-8171-4b99-bd6b-078b4ed72ee2",
   "metadata": {},
   "outputs": [
    {
     "name": "stdout",
     "output_type": "stream",
     "text": [
      "This is method C\n"
     ]
    }
   ],
   "source": [
    "c.method_c()"
   ]
  },
  {
   "cell_type": "code",
   "execution_count": null,
   "id": "37fd5599-fd20-4bef-b3f8-ef3458a6afa8",
   "metadata": {},
   "outputs": [],
   "source": []
  },
  {
   "cell_type": "code",
   "execution_count": 14,
   "id": "57743464-1fe9-4d03-90c6-57b8c6c072f0",
   "metadata": {},
   "outputs": [],
   "source": [
    "class Person:\n",
    "    def __init__(self, name):\n",
    "        self._name = name\n",
    "\n",
    "    def get_name(self):\n",
    "        return self._name\n",
    "\n",
    "    def set_name(self, name):\n",
    "        self._name = name\n"
   ]
  },
  {
   "cell_type": "code",
   "execution_count": 15,
   "id": "a7eb82d7-1c16-4014-b255-c69e1c3e684d",
   "metadata": {},
   "outputs": [
    {
     "name": "stdout",
     "output_type": "stream",
     "text": [
      "John\n",
      "Alice\n"
     ]
    }
   ],
   "source": [
    "person = Person(\"John\")\n",
    "print(person.get_name())   # Output: John\n",
    "\n",
    "person.set_name(\"Alice\")\n",
    "print(person.get_name())   # Output: Alice\n"
   ]
  },
  {
   "cell_type": "code",
   "execution_count": null,
   "id": "5f71b086-dd2b-4bb3-92a5-154d18226e49",
   "metadata": {},
   "outputs": [],
   "source": []
  },
  {
   "cell_type": "code",
   "execution_count": 16,
   "id": "568d2057-23d6-433b-9f0d-e1f2561b4026",
   "metadata": {},
   "outputs": [
    {
     "name": "stdout",
     "output_type": "stream",
     "text": [
      "The animal makes a sound\n",
      "The dog barks\n"
     ]
    }
   ],
   "source": [
    "class Animal:\n",
    "    def make_sound(self):\n",
    "        print(\"The animal makes a sound\")\n",
    "\n",
    "class Dog(Animal):\n",
    "    def make_sound(self):\n",
    "        print(\"The dog barks\")\n",
    "\n",
    "animal = Animal()\n",
    "dog = Dog()\n",
    "\n",
    "animal.make_sound()   # Output: The animal makes a sound\n",
    "dog.make_sound()      # Output: The dog barks\n"
   ]
  },
  {
   "cell_type": "code",
   "execution_count": null,
   "id": "838283ad-fef4-4876-a9fd-459575fd795b",
   "metadata": {},
   "outputs": [],
   "source": []
  }
 ],
 "metadata": {
  "kernelspec": {
   "display_name": "Python 3 (ipykernel)",
   "language": "python",
   "name": "python3"
  },
  "language_info": {
   "codemirror_mode": {
    "name": "ipython",
    "version": 3
   },
   "file_extension": ".py",
   "mimetype": "text/x-python",
   "name": "python",
   "nbconvert_exporter": "python",
   "pygments_lexer": "ipython3",
   "version": "3.10.8"
  }
 },
 "nbformat": 4,
 "nbformat_minor": 5
}
