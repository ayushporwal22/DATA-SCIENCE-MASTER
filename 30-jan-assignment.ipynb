{
 "cells": [
  {
   "cell_type": "code",
   "execution_count": 2,
   "id": "18ca4f0e-7390-4d06-87e3-9d0a039b4ae5",
   "metadata": {},
   "outputs": [
    {
     "name": "stdin",
     "output_type": "stream",
     "text": [
      "Enter the cost price of the bike (in Rs):  100010\n"
     ]
    },
    {
     "name": "stdout",
     "output_type": "stream",
     "text": [
      "The road tax to be paid is Rs 15001.5\n"
     ]
    }
   ],
   "source": [
    "# Accept the cost price of the bike\n",
    "cost_price = int(input(\"Enter the cost price of the bike (in Rs): \"))\n",
    "\n",
    "# Determine the road tax based on the cost price\n",
    "if cost_price > 100000:\n",
    "    road_tax = cost_price * 0.15\n",
    "elif cost_price >= 50000 and cost_price <= 100000:\n",
    "    road_tax = cost_price * 0.1\n",
    "else:\n",
    "    road_tax = cost_price * 0.02\n",
    "\n",
    "# Display the road tax\n",
    "print(\"The road tax to be paid is Rs\", road_tax)\n"
   ]
  },
  {
   "cell_type": "code",
   "execution_count": 42,
   "id": "be4fbffa-fb89-4f50-9d08-383a795715da",
   "metadata": {},
   "outputs": [
    {
     "name": "stdin",
     "output_type": "stream",
     "text": [
      "Enter your percentage:  90\n"
     ]
    },
    {
     "name": "stdout",
     "output_type": "stream",
     "text": [
      "Your grade is B\n"
     ]
    }
   ],
   "source": [
    "# Accept the percentage from the user\n",
    "percentage = float(input(\"Enter your percentage: \"))\n",
    "\n",
    "# Determine the grade based on the percentage\n",
    "if percentage > 90:\n",
    "    grade = \"A\"\n",
    "elif percentage > 80 and percentage <= 90:\n",
    "    grade = \"B\"\n",
    "elif percentage >= 60 and percentage <= 70:\n",
    "    grade = \"C\"\n",
    "else:\n",
    "    grade = \"D\"\n",
    "\n",
    "# Display the grade\n",
    "print(\"Your grade is\", grade)"
   ]
  },
  {
   "cell_type": "code",
   "execution_count": 56,
   "id": "e7f9e665-baae-41b3-8898-e8e544b4c0da",
   "metadata": {},
   "outputs": [
    {
     "name": "stdin",
     "output_type": "stream",
     "text": [
      "Enter a city:  agra\n"
     ]
    },
    {
     "name": "stdout",
     "output_type": "stream",
     "text": [
      "The monument for agra is: Taj Mahal\n"
     ]
    }
   ],
   "source": [
    "# Accept the city from the user\n",
    "city = input(\"Enter a city: \")\n",
    "\n",
    "# Determine the monument based on the city\n",
    "if city.lower() == \"delhi\":\n",
    "    monument = \"Red Fort\"\n",
    "elif city.lower() == \"agra\":\n",
    "    monument = \"Taj Mahal\"\n",
    "elif city.lowerr() == \"jaipur\":\n",
    "    monument = \"Jal Mahal\"\n",
    "else:\n",
    "    monument = \"Sorry, we don't have information on monuments for that city.\"\n",
    "\n",
    "# Display the monument\n",
    "print(\"The monument for\", city, \"is:\", monument)"
   ]
  },
  {
   "cell_type": "code",
   "execution_count": 55,
   "id": "ce9e7543-3e63-4767-9b1d-50931b902768",
   "metadata": {},
   "outputs": [
    {
     "name": "stdin",
     "output_type": "stream",
     "text": [
      "Enter a number:  9\n"
     ]
    },
    {
     "name": "stdout",
     "output_type": "stream",
     "text": [
      "The number can be divided by 3 0 times before it is less than or equal to 10.\n"
     ]
    }
   ],
   "source": [
    "# Accept the number from the user\n",
    "number = int(input(\"Enter a number: \"))\n",
    "\n",
    "# Initialize a count variable to keep track of the number of divisions\n",
    "count = 0\n",
    "\n",
    "# Divide the number by 3 until it is less than or equal to 10\n",
    "while number > 10:\n",
    "    number /= 3\n",
    "    count += 1\n",
    "\n",
    "# Display the number of times the number can be divided by 3 before it is less than or equal to 10\n",
    "print(\"The number can be divided by 3\", count, \"times before it is less than or equal to 10.\")"
   ]
  },
  {
   "cell_type": "markdown",
   "id": "3e522eef-8e03-44ea-8f86-cb4e78467273",
   "metadata": {},
   "source": [
    "A while loop in Python is used to repeatedly execute a block of code as long as a certain condition is true. The loop will continue to execute the block of code until the condition becomes false. Here's a detailed description and example of when and why you might want to use a while loop in Python:\n",
    "\n",
    "When to use a while loop:\n",
    "\n",
    "You want to execute a block of code repeatedly while a certain condition is true.\n",
    "You don't know in advance how many times the loop needs to be executed.\n",
    "You want to keep executing the loop until a certain condition is met.\n",
    "You want to repeatedly perform an action until a certain result is obtained.\n",
    "Why to use a while loop:\n",
    "\n",
    "while loops can be used to automate repetitive tasks.\n",
    "while loops can be used to iterate over lists, strings, and other data types.\n",
    "while loops can be used to implement game logic, simulation, and other interactive applications.\n",
    "Example:\n",
    "\n",
    "Suppose you want to write a program that prints the numbers from 1 to 10 using a while loop. Here's how you can do it:\n",
    "\n",
    "python\n",
    "Copy code\n",
    "# Initialize a counter variable\n",
    "i = 1\n",
    "\n",
    "# Use a while loop to print the numbers from 1 to 10\n",
    "while i <= 10:\n",
    "    print(i)\n",
    "    i += 1\n",
    "In this example, the loop will continue to execute as long as the value of i is less than or equal to 10. The program initializes the i variable to 1 and prints its value. Then, it increments the value of i by 1 and checks if the new value is less than or equal to 10. If the condition is true, the loop continues to execute, and the next number is printed. This process continues until the value of i is greater than 10, at which point the loop terminates.\n",
    "\n",
    "Another example is a program that asks the user to enter a number, and then prints the first n numbers of the Fibonacci sequence using a while loop:\n",
    "\n",
    "python\n",
    "Copy code\n",
    "# Accept the number from the user\n",
    "n = int(input(\"Enter a number: \"))\n",
    "\n",
    "# Initialize the first two numbers in the Fibonacci sequence\n",
    "a, b = 0, 1\n",
    "\n",
    "# Use a while loop to print the first n numbers of the Fibonacci sequence\n",
    "while n > 0:\n",
    "    print(a)\n",
    "    a, b = b, a + b\n",
    "    n -= 1\n",
    "In this example, the loop will continue to execute as long as the value of n is greater than 0. The program initializes the variables a and b to 0 and 1, respectively, which are the first two numbers in the Fibonacci sequence. Then, it uses a while loop to print the first n numbers of the sequence. The loop iterates n times, printing each number of the sequence and updating the values of a and b accordingly. Once the loop has printed n numbers, the program terminates."
   ]
  },
  {
   "cell_type": "code",
   "execution_count": 52,
   "id": "a3d1ed9f-cdca-44de-b12b-e41361ef4397",
   "metadata": {},
   "outputs": [
    {
     "name": "stdout",
     "output_type": "stream",
     "text": [
      "*\n",
      "**\n",
      "***\n",
      "****\n",
      "*****\n"
     ]
    }
   ],
   "source": [
    "# pattern 1\n",
    "i = 1\n",
    "while i <= 5:\n",
    "    j = 1\n",
    "    while j <= i:\n",
    "        print(\"*\", end=\"\")\n",
    "        j += 1\n",
    "    print()\n",
    "    i += 1"
   ]
  },
  {
   "cell_type": "code",
   "execution_count": 53,
   "id": "70ca37fe-d6a8-49d1-9959-97489ff78e20",
   "metadata": {},
   "outputs": [
    {
     "name": "stdout",
     "output_type": "stream",
     "text": [
      "    *\n",
      "   **\n",
      "  ***\n",
      " ****\n",
      "*****\n"
     ]
    }
   ],
   "source": [
    "# pattern 2\n",
    "i = 1\n",
    "while i <= 5:\n",
    "    j = 1\n",
    "    while j <= 5-i:\n",
    "        print(\" \", end=\"\")\n",
    "        j += 1\n",
    "    k = 1\n",
    "    while k <= i:\n",
    "        print(\"*\", end=\"\")\n",
    "        k += 1\n",
    "    print()\n",
    "    i += 1"
   ]
  },
  {
   "cell_type": "code",
   "execution_count": 54,
   "id": "5c1aa929-f691-4b02-8092-2d07ce64016f",
   "metadata": {},
   "outputs": [
    {
     "name": "stdout",
     "output_type": "stream",
     "text": [
      " *****\n",
      "  ****\n",
      "   ***\n",
      "    **\n",
      "     *\n"
     ]
    }
   ],
   "source": [
    "# pattern 3\n",
    "i = 5\n",
    "while i >= 1:\n",
    "    j = 5\n",
    "    while j >= i:\n",
    "        print(\" \", end=\"\")\n",
    "        j -= 1\n",
    "    k = 1\n",
    "    while k <= i:\n",
    "        print(\"*\", end=\"\")\n",
    "        k += 1\n",
    "    print()\n",
    "    i -= 1"
   ]
  },
  {
   "cell_type": "code",
   "execution_count": 57,
   "id": "6b69663e-d98f-4b88-9c3a-02cd314e3383",
   "metadata": {},
   "outputs": [
    {
     "name": "stdout",
     "output_type": "stream",
     "text": [
      "10\n",
      "9\n",
      "8\n",
      "7\n",
      "6\n",
      "5\n",
      "4\n",
      "3\n",
      "2\n",
      "1\n"
     ]
    }
   ],
   "source": [
    "num = 10\n",
    "while num >= 1:\n",
    "    print(num)\n",
    "    num -= 1"
   ]
  },
  {
   "cell_type": "code",
   "execution_count": null,
   "id": "33e3aa75-73b7-4f57-8380-c2f56718de96",
   "metadata": {},
   "outputs": [],
   "source": []
  }
 ],
 "metadata": {
  "kernelspec": {
   "display_name": "Python 3 (ipykernel)",
   "language": "python",
   "name": "python3"
  },
  "language_info": {
   "codemirror_mode": {
    "name": "ipython",
    "version": 3
   },
   "file_extension": ".py",
   "mimetype": "text/x-python",
   "name": "python",
   "nbconvert_exporter": "python",
   "pygments_lexer": "ipython3",
   "version": "3.10.8"
  }
 },
 "nbformat": 4,
 "nbformat_minor": 5
}
