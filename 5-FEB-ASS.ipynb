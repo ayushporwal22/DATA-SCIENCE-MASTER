{
 "cells": [
  {
   "cell_type": "markdown",
   "id": "6265f743-df1a-45ec-85cf-14417d4aea87",
   "metadata": {},
   "source": [
    "Object-Oriented Programming (OOP) is a programming paradigm based on the concept of \"objects\" which can contain data and functions that operate on that data.\n",
    "\n",
    "A Class in OOP is a blueprint or a template for creating objects that define a set of attributes and behaviors that an object will have. A class can be thought of as a blueprint or a plan for creating objects that have a specific set of properties and behaviors.\n",
    "\n",
    "An Object, on the other hand, is an instance of a class. It represents a specific occurrence of the class, which contains its own set of data and methods. Objects can interact with one another through their methods, and they can be created, modified, and destroyed during the execution of a program.\n",
    "\n",
    "Here's an example to explain the concept of Class and Object in OOP:\n",
    "\n",
    "Let's say we want to create a program to represent a car. The first step would be to define a class called Car, which would contain the properties and methods that describe the behavior of a car."
   ]
  },
  {
   "cell_type": "code",
   "execution_count": null,
   "id": "e021a82c-0907-4826-9bb3-54beeb981a62",
   "metadata": {},
   "outputs": [],
   "source": [
    "class Car:\n",
    "    def __init__(self, make, model, year):\n",
    "        self.make = make\n",
    "        self.model = model\n",
    "        self.year = year\n",
    "        self.odometer_reading = 0\n",
    "        \n",
    "    def get_descriptive_name(self):\n",
    "        long_name = f\"{self.year} {self.make} {self.model}\"\n",
    "        return long_name.title()\n",
    "    \n",
    "    def read_odometer(self):\n",
    "        print(f\"This car has {self.odometer_reading} miles on it.\")\n",
    "    \n",
    "    def update_odometer(self, mileage):\n",
    "        if mileage >= self.odometer_reading:\n",
    "            self.odometer_reading = mileage\n",
    "        else:\n",
    "            print(\"You can't roll back an odometer!\")\n",
    "    \n",
    "    def increment_odometer(self, miles):\n",
    "        self.odometer_reading += miles"
   ]
  },
  {
   "cell_type": "code",
   "execution_count": null,
   "id": "6721dbc8-f9c2-46f2-baf7-949ae952363d",
   "metadata": {},
   "outputs": [],
   "source": [
    "my_car = Car('audi', 'a4', 2021)\n",
    "print(my_car.get_descriptive_name())\n",
    "# Output: 2021 Audi A4\n",
    "\n",
    "my_car.update_odometer(100)\n",
    "my_car.read_odometer()\n",
    "# Output: This car has 100 miles on it.\n"
   ]
  },
  {
   "cell_type": "code",
   "execution_count": null,
   "id": "184bc028-7193-4e8a-b883-2d198db55479",
   "metadata": {},
   "outputs": [],
   "source": []
  },
  {
   "cell_type": "markdown",
   "id": "5a5463aa-d053-4209-8023-7fecb67eac48",
   "metadata": {},
   "source": [
    "Encapsulation: Encapsulation refers to the process of hiding the complexity of an object's internal data and methods from the outside world, and exposing only what is necessary through a well-defined interface. This helps to ensure data integrity, code reusability, and maintainability of the program.\n",
    "\n",
    "Abstraction: Abstraction refers to the process of modeling complex systems by breaking them down into smaller, more manageable components. It involves identifying the essential characteristics of an object or system, and ignoring the rest. Abstraction allows us to focus on the important details of an object, without getting bogged down in unnecessary details.\n",
    "\n",
    "Inheritance: Inheritance refers to the process of creating new classes from existing ones, where the new class inherits the properties and methods of the parent class. Inheritance allows us to reuse code and build upon existing functionality, which can reduce development time and improve code maintainability."
   ]
  },
  {
   "cell_type": "code",
   "execution_count": null,
   "id": "a1b56ddc-9dc1-4984-bd1f-4407230b0924",
   "metadata": {},
   "outputs": [],
   "source": []
  },
  {
   "cell_type": "markdown",
   "id": "5dd752bf-a908-4890-a1e9-4c99a7bd6601",
   "metadata": {},
   "source": [
    "In Python, the __init__() function is a special method that is called automatically when an object of a class is created. It is commonly used to initialize the attributes of the object and set their initial values.\n",
    "\n",
    "The __init__() method is usually the first method defined in a class, and it takes the self parameter, which refers to the object being created. Other parameters can also be included to accept arguments that will be used to set the initial values of the object's attributes.\n",
    "\n",
    "Here's an example to demonstrate the use of the __init__() method:"
   ]
  },
  {
   "cell_type": "code",
   "execution_count": 3,
   "id": "b8f1689f-8ed7-49d6-9c28-aad88b73cf7e",
   "metadata": {},
   "outputs": [],
   "source": [
    "class Car:\n",
    "    def __init__(self, make, model, year):\n",
    "        self.make = make\n",
    "        self.model = model\n",
    "        self.year = year\n",
    "        self.odometer_reading = 0\n",
    "        \n",
    "    def get_descriptive_name(self):\n",
    "        long_name = f\"{self.year} {self.make} {self.model}\"\n",
    "        return long_name.title()\n",
    "    \n",
    "    def read_odometer(self):\n",
    "        print(f\"This car has {self.odometer_reading} miles on it.\")\n",
    "    \n",
    "    def update_odometer(self, mileage):\n",
    "        if mileage >= self.odometer_reading:\n",
    "            self.odometer_reading = mileage\n",
    "        else:\n",
    "            print(\"You can't roll back an odometer!\")\n",
    "    \n",
    "    def increment_odometer(self, miles):\n",
    "        self.odometer_reading += miles\n"
   ]
  },
  {
   "cell_type": "code",
   "execution_count": 5,
   "id": "5e59eb7e-55ce-4848-b52c-685aa7e3b566",
   "metadata": {},
   "outputs": [],
   "source": []
  },
  {
   "cell_type": "markdown",
   "id": "2469b74a-241d-4fb9-84f5-58fff4ed5bb4",
   "metadata": {},
   "source": [
    "self represents the instance of the class. By using the “self”  we can access the attributes and methods of the class in python. It binds the attributes with the given arguments.\n",
    "\n",
    "The reason you need to use self. is because Python does not use the @ syntax to refer to instance attributes. Python decided to do methods in a way that makes the instance to which the method belongs be passed automatically, but not received automatically: the first parameter of methods is the instance the method is called on."
   ]
  },
  {
   "cell_type": "code",
   "execution_count": null,
   "id": "e3092893-c3c9-48ce-9fc9-e2e163added1",
   "metadata": {},
   "outputs": [],
   "source": []
  }
 ],
 "metadata": {
  "kernelspec": {
   "display_name": "Python 3 (ipykernel)",
   "language": "python",
   "name": "python3"
  },
  "language_info": {
   "codemirror_mode": {
    "name": "ipython",
    "version": 3
   },
   "file_extension": ".py",
   "mimetype": "text/x-python",
   "name": "python",
   "nbconvert_exporter": "python",
   "pygments_lexer": "ipython3",
   "version": "3.10.8"
  }
 },
 "nbformat": 4,
 "nbformat_minor": 5
}
